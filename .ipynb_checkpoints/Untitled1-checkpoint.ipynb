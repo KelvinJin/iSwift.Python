{
 "cells": [
  {
   "cell_type": "code",
   "execution_count": null,
   "metadata": {
    "collapsed": true
   },
   "outputs": [],
   "source": [
    "class Person {\n",
    "    var name: String = \"\"\n",
    "    var age: Int = 99\n",
    "}\n",
    "let p = Person()\n",
    "print(p.name)"
   ]
  }
 ],
 "metadata": {
  "kernelspec": {
   "display_name": "Swift",
   "language": "swift",
   "name": "iswiftkernel"
  },
  "language_info": {
   "file_extension": ".swift",
   "mimetype": "text/swift",
   "name": "swift",
   "version": "2.1"
  }
 },
 "nbformat": 4,
 "nbformat_minor": 0
}
